{
 "cells": [
  {
   "cell_type": "code",
   "execution_count": null,
   "metadata": {},
   "outputs": [],
   "source": [
    "from os import listdir\n",
    "from os.path import isfile, join\n",
    "from wordcloud import WordCloud"
   ]
  },
  {
   "cell_type": "code",
   "execution_count": null,
   "metadata": {},
   "outputs": [],
   "source": [
    "import nltk\n",
    "DATA_PATH = join('..','data','interim','sfcr')\n",
    "nltk.data.path.append(join('..','data','nltk_data'))\n",
    "\n",
    "from nltk.corpus import stopwords\n",
    "stop_nl = set(stopwords.words('dutch'))\n",
    "stop_en = set(stopwords.words('english'))"
   ]
  },
  {
   "cell_type": "code",
   "execution_count": null,
   "metadata": {},
   "outputs": [],
   "source": [
    "txt_files = [f for f in listdir(DATA_PATH) if isfile(join(DATA_PATH, f)) and f[-3:]=='txt']\n",
    "documents = []\n",
    "for file_name in txt_files:\n",
    "    file = open(join(DATA_PATH, file_name), \"rb\")\n",
    "    text = file.read().decode('utf-8')\n",
    "    file.close()\n",
    "    #text = text.replace(\"\\n\", \" \")\n",
    "    text = \" \".join([i for i in nltk.word_tokenize(text.lower()) if (i not in stop_nl) and (i not in stop_en)])\n",
    "    documents.append(text)"
   ]
  },
  {
   "cell_type": "code",
   "execution_count": null,
   "metadata": {},
   "outputs": [],
   "source": [
    "wordcloud = WordCloud(width = 1000,\n",
    "                      height = 200,\n",
    "                      max_font_size = 30, \n",
    "                      min_font_size = 10,\n",
    "                      max_words = 100,\n",
    "                      background_color=\"white\").generate(documents[6])"
   ]
  },
  {
   "cell_type": "code",
   "execution_count": null,
   "metadata": {},
   "outputs": [],
   "source": [
    "image = wordcloud.to_image()"
   ]
  },
  {
   "cell_type": "code",
   "execution_count": null,
   "metadata": {},
   "outputs": [],
   "source": [
    "image.save(\"wordcloud.jpg\")"
   ]
  },
  {
   "cell_type": "code",
   "execution_count": null,
   "metadata": {},
   "outputs": [],
   "source": []
  }
 ],
 "metadata": {
  "kernelspec": {
   "display_name": "Python 3",
   "language": "python",
   "name": "python3"
  },
  "language_info": {
   "codemirror_mode": {
    "name": "ipython",
    "version": 3
   },
   "file_extension": ".py",
   "mimetype": "text/x-python",
   "name": "python",
   "nbconvert_exporter": "python",
   "pygments_lexer": "ipython3",
   "version": "3.6.10"
  }
 },
 "nbformat": 4,
 "nbformat_minor": 4
}
