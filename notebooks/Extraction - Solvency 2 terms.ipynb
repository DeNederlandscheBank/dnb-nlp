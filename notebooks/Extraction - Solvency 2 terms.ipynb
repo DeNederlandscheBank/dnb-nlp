{
 "cells": [
  {
   "cell_type": "code",
   "execution_count": null,
   "metadata": {},
   "outputs": [],
   "source": [
    "from os import listdir\n",
    "from os.path import isfile, join\n",
    "import re\n",
    "import pandas as pd\n",
    "from lexnlp.nlp.en.segments import sentences\n",
    "from lexnlp.utils import parse_df\n",
    "import nltk"
   ]
  },
  {
   "cell_type": "code",
   "execution_count": null,
   "metadata": {},
   "outputs": [],
   "source": [
    "import lexnlp\n",
    "import src"
   ]
  },
  {
   "cell_type": "code",
   "execution_count": null,
   "metadata": {},
   "outputs": [],
   "source": [
    "DATA_PATH = \"..\\data\\interim\\sfcr\"\n",
    "nltk.data.path.append(\"..\\data\\nltk_data\")"
   ]
  },
  {
   "cell_type": "code",
   "execution_count": null,
   "metadata": {},
   "outputs": [],
   "source": [
    "txt_files = [f for f in listdir(DATA_PATH) if isfile(join(DATA_PATH, f)) and f[-3:]=='txt']\n",
    "documents = []\n",
    "for file_name in txt_files:\n",
    "    file = open(join(DATA_PATH, file_name), \"rb\")\n",
    "    text = file.read().decode('utf-8')\n",
    "    file.close()\n",
    "    #text = text.replace(\"\\n\", \" \")\n",
    "    documents.append(text)\n",
    "    \n",
    "pickle_files = [f for f in listdir(DATA_PATH) if isfile(join(DATA_PATH, f)) and f[-6:]=='pickle']\n",
    "df = pd.DataFrame()\n",
    "for file_name in pickle_files:\n",
    "    df = df.append(pd.read_pickle(join(DATA_PATH, file_name)), ignore_index = True)"
   ]
  },
  {
   "cell_type": "code",
   "execution_count": null,
   "metadata": {},
   "outputs": [],
   "source": [
    "print(\"Number of documents: \" + str(len(documents)))\n",
    "print(\"Number of sentences: \" + str(len(df.index)))"
   ]
  },
  {
   "cell_type": "code",
   "execution_count": null,
   "metadata": {},
   "outputs": [],
   "source": [
    "# Entity is: (entity_id, name, category, priority, [list of aliases])\n",
    "# Alias is: (alias_text, lang, is_abbrev, alias_id)\n",
    "config_list = []\n",
    "for row in df_geoentities.index:\n",
    "    config_list.append((df_geoentities.loc[row, 'entity_id'],\n",
    "                        df_geoentities.loc[row, 'name'], 900, [(df_geoentities.loc[row, 'name'], \"en\", None, 1)]))"
   ]
  },
  {
   "cell_type": "code",
   "execution_count": null,
   "metadata": {},
   "outputs": [],
   "source": [
    "entities_fn = \"..//dictionary//common//solvency2_terms.csv\"\n",
    "aliases_fn = \"..//dictionary//common//solvency2_term_aliases.csv\"\n",
    "config_list = src.extract.common.solvency2_terms.load_terms_dict_by_path(entities_fn, aliases_fn, use_stemmer = True)"
   ]
  },
  {
   "cell_type": "code",
   "execution_count": null,
   "metadata": {},
   "outputs": [],
   "source": [
    "sentence = \"Wat betreft de materialiteit hebben we geen enkele materiële afwijkingen en ook geen materiële afwijking. Material deviations.\"\n",
    "b = src.extract.common.dict_terms.normalize_text(text = sentence,use_stemmer = True, language = \"nl\")\n",
    "a = list(src.extract.common.solvency2_terms.get_solvency2_term_annotations(text = sentence, \n",
    "                                                                       term_config_list = config_list, \n",
    "                                                                       language = \"nl\"))\n",
    "a"
   ]
  },
  {
   "cell_type": "code",
   "execution_count": null,
   "metadata": {},
   "outputs": [],
   "source": [
    "a[0].category"
   ]
  },
  {
   "cell_type": "code",
   "execution_count": null,
   "metadata": {},
   "outputs": [],
   "source": [
    "b"
   ]
  },
  {
   "cell_type": "code",
   "execution_count": null,
   "metadata": {},
   "outputs": [],
   "source": [
    "config_list"
   ]
  },
  {
   "cell_type": "markdown",
   "metadata": {},
   "source": [
    "## Percents"
   ]
  },
  {
   "cell_type": "code",
   "execution_count": null,
   "metadata": {},
   "outputs": [],
   "source": [
    "text = 'Dit komt neer op 34 % van het inkomen.'\n",
    "res = list(src.extract.nl.percents.get_percents(text))\n",
    "print(res)\n",
    "\n",
    "text = 'Dit komt neer op 34 procent van het inkomen.'\n",
    "res = list(src.extract.nl.percents.get_percents(text))\n",
    "print(res)\n",
    "\n",
    "text = 'Dit komt neer op twintig procent van het inkomen.'\n",
    "res = list(src.extract.nl.percents.get_percents(text))\n",
    "print(res)"
   ]
  },
  {
   "cell_type": "code",
   "execution_count": null,
   "metadata": {},
   "outputs": [],
   "source": [
    "text = 'Dit was durende in 2018 18% van het totaal'\n",
    "res = list(src.extract.nl.percents.get_percents(text))\n",
    "print(res)"
   ]
  },
  {
   "cell_type": "code",
   "execution_count": null,
   "metadata": {},
   "outputs": [],
   "source": [
    "res = list(src.extract.nl.percents.get_percents(documents[15]))\n",
    "res[0:10]"
   ]
  },
  {
   "cell_type": "markdown",
   "metadata": {},
   "source": [
    "## Amounts"
   ]
  },
  {
   "cell_type": "code",
   "execution_count": null,
   "metadata": {},
   "outputs": [],
   "source": [
    "text = 'Er waren 30 mensen en ze hadden in twee gevallen 2 miljoen euro.'\n",
    "res = list(src.extract.nl.amounts.get_amounts(text))\n",
    "print(res)"
   ]
  },
  {
   "cell_type": "code",
   "execution_count": null,
   "metadata": {},
   "outputs": [],
   "source": [
    "text = '€ 3 miljoen'\n",
    "res = list(src.extract.nl.amounts.get_amounts(text))\n",
    "res"
   ]
  },
  {
   "cell_type": "code",
   "execution_count": null,
   "metadata": {},
   "outputs": [],
   "source": [
    "# Dutch way to write numbers\n",
    "text = '1.000.000,12'\n",
    "res = list(src.extract.nl.amounts.get_amounts(text))\n",
    "print(res)"
   ]
  },
  {
   "cell_type": "code",
   "execution_count": null,
   "metadata": {},
   "outputs": [],
   "source": [
    "text = 'duizendtweehonderdvierendertig en 8'\n",
    "res = list(src.extract.nl.amounts.get_amounts(text))\n",
    "print(res)"
   ]
  },
  {
   "cell_type": "code",
   "execution_count": null,
   "metadata": {
    "scrolled": false
   },
   "outputs": [],
   "source": [
    "text = 'een halve liter'\n",
    "res = list(src.extract.nl.amounts.get_amounts(text))\n",
    "print(res)"
   ]
  },
  {
   "cell_type": "code",
   "execution_count": null,
   "metadata": {},
   "outputs": [],
   "source": [
    "text = 'Dit was durende in 2018 18% van het totaal'\n",
    "res = list(src.extract.nl.amounts.get_amounts(text))\n",
    "print(res)"
   ]
  },
  {
   "cell_type": "code",
   "execution_count": null,
   "metadata": {},
   "outputs": [],
   "source": [
    "text = 'negenhonderdduizend'\n",
    "res = list(src.extract.nl.amounts.get_amounts(text))\n",
    "print(res)"
   ]
  },
  {
   "cell_type": "code",
   "execution_count": null,
   "metadata": {},
   "outputs": [],
   "source": [
    "text = 'een kwart'\n",
    "res = list(src.extract.nl.amounts.get_amounts(text))\n",
    "print(res)"
   ]
  },
  {
   "cell_type": "markdown",
   "metadata": {},
   "source": [
    "## Money"
   ]
  },
  {
   "cell_type": "code",
   "execution_count": null,
   "metadata": {},
   "outputs": [],
   "source": [
    "text = '€ 3 miljoen'\n",
    "res = list(src.extract.nl.amounts.get_amounts(text))\n",
    "res"
   ]
  },
  {
   "cell_type": "code",
   "execution_count": null,
   "metadata": {},
   "outputs": [],
   "source": [
    "res = list(src.extract.nl.money.get_money(documents[15]))\n",
    "res[0:10]"
   ]
  },
  {
   "cell_type": "markdown",
   "metadata": {},
   "source": [
    "## Durations"
   ]
  },
  {
   "cell_type": "code",
   "execution_count": null,
   "metadata": {},
   "outputs": [],
   "source": [
    "text = 'Nog twee maanden en dan zijn we er vanaf.'\n",
    "res = list(src.extract.nl.durations.get_durations(text))\n",
    "print(res)"
   ]
  },
  {
   "cell_type": "code",
   "execution_count": null,
   "metadata": {},
   "outputs": [],
   "source": [
    "text = 'Nog twee uur en vier minuten en dan zijn we er vanaf.'\n",
    "res = list(src.extract.nl.durations.get_durations(text))\n",
    "print(res)"
   ]
  },
  {
   "cell_type": "code",
   "execution_count": null,
   "metadata": {},
   "outputs": [],
   "source": []
  }
 ],
 "metadata": {
  "kernelspec": {
   "display_name": "Python 3",
   "language": "python",
   "name": "python3"
  },
  "language_info": {
   "codemirror_mode": {
    "name": "ipython",
    "version": 3
   },
   "file_extension": ".py",
   "mimetype": "text/x-python",
   "name": "python",
   "nbconvert_exporter": "python",
   "pygments_lexer": "ipython3",
   "version": "3.6.9"
  }
 },
 "nbformat": 4,
 "nbformat_minor": 2
}
