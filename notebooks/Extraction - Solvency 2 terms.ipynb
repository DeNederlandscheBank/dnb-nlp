{
 "cells": [
  {
   "cell_type": "code",
   "execution_count": null,
   "metadata": {},
   "outputs": [],
   "source": [
    "import warnings\n",
    "warnings.filterwarnings('ignore')"
   ]
  },
  {
   "cell_type": "code",
   "execution_count": null,
   "metadata": {},
   "outputs": [],
   "source": [
    "from lexnlp.extract.en.geoentities import get_geoentity_annotations\n",
    "#from lexnlp.extract.en.dates import get_date_annotations\n",
    "from lexnlp.extract.en.money import get_money_annotations\n",
    "from lexnlp.extract.en.durations import get_duration_annotations\n",
    "from lexnlp.extract.en.definitions import get_definition_annotations\n",
    "from lexnlp.extract.en.percents import get_percent_annotations\n",
    "from dictionary import dispatcher\n",
    "from lexnlp.extract.en import dict_entities"
   ]
  },
  {
   "cell_type": "code",
   "execution_count": null,
   "metadata": {},
   "outputs": [],
   "source": [
    "from src.extract.en import solvency2_terms\n",
    "from src.extract.en import eu_regulations\n",
    "from src.utils import legislation"
   ]
  },
  {
   "cell_type": "code",
   "execution_count": null,
   "metadata": {},
   "outputs": [],
   "source": [
    "text = legislation.load(\"Delegated Acts\", \"EN\")"
   ]
  },
  {
   "cell_type": "code",
   "execution_count": null,
   "metadata": {},
   "outputs": [],
   "source": [
    "collection = dispatcher.collection.dictionary.en"
   ]
  },
  {
   "cell_type": "code",
   "execution_count": null,
   "metadata": {},
   "outputs": [],
   "source": [
    "collection.terminology_csv.as_df.head(5)"
   ]
  },
  {
   "cell_type": "code",
   "execution_count": null,
   "metadata": {},
   "outputs": [],
   "source": [
    "f = \"..//dictionary//en//terminology.csv\"\n",
    "config_list = list(solvency2_terms.load_entities_dict_by_path(f))"
   ]
  },
  {
   "cell_type": "code",
   "execution_count": null,
   "metadata": {},
   "outputs": [],
   "source": [
    "item = legislation.article(text, \"EN\", 4)[2][0][1]\n",
    "\n",
    "t = item.replace(\"\\n\", \"\")\n",
    "\n",
    "r = list(solvency2_terms.get_solvency2terms(text = t, config_list = config_list))\n",
    "\n",
    "l = list(eu_regulations.get_regulation_annotations(text = t))\n",
    "\n",
    "print(\"text : \" + t + \"\\n\")\n",
    "if r != []:\n",
    "    print(\"results:\\n\" + str(r)+ \"\\n\")\n",
    "\n",
    "if l != []:\n",
    "    print(\"results:\\n\" + str(l) + \"\\n\")"
   ]
  },
  {
   "cell_type": "markdown",
   "metadata": {},
   "source": [
    "## Climate change"
   ]
  },
  {
   "cell_type": "code",
   "execution_count": null,
   "metadata": {},
   "outputs": [],
   "source": [
    "f = \"..//dictionary//en//climate.csv\"\n",
    "config_list = list(solvency2_terms.load_entities_dict_by_path(f))\n",
    "\n",
    "alt = []\n",
    "for text in config_list:\n",
    "    a = dict_entities.normalize_text(text[1], lowercase=False, use_stemmer = True)\n",
    "    print(text[1] + \" --> \" + a[1:-1])\n",
    "    alt.append((text[0], a[1:-1], text[2], text[3]))"
   ]
  },
  {
   "cell_type": "code",
   "execution_count": null,
   "metadata": {},
   "outputs": [],
   "source": [
    "item = \"sustainability risk and other risks and floods . \\\n",
    "The Dutch Royal Netherlands Meteorological Institute (KNMI) \\\n",
    "mentions the following possible consequences of a changing climate: \\\n",
    "wind and storm pattern shifts, increased frequency of hot weather, hail, \\\n",
    "high winds, extreme precipitation, drought and flooding. The number of \\\n",
    "insurance claims is likely to increase as a result. This in turn will \\\n",
    "increase pressure on premiums, possibly leading to abrupt price increases. \\\n",
    "Thus, climate change could eventually result in changes to insurers’ risk \\\n",
    "profiles and, hence, their capital requirements and reinsurance programmes\"\n",
    "\n",
    "t = item.replace(\"\\n\", \"\")\n",
    "\n",
    "r = list(solvency2_terms.get_solvency2terms(text = t, config_list = alt))\n",
    "\n",
    "print(\"text : \" + t + \"\\n\")\n",
    "if r != []:\n",
    "    print(\"results:\\n\" + str(r)+ \"\\n\")"
   ]
  },
  {
   "cell_type": "code",
   "execution_count": null,
   "metadata": {},
   "outputs": [],
   "source": []
  },
  {
   "cell_type": "code",
   "execution_count": null,
   "metadata": {},
   "outputs": [],
   "source": []
  }
 ],
 "metadata": {
  "kernelspec": {
   "display_name": "Python 3",
   "language": "python",
   "name": "python3"
  },
  "language_info": {
   "codemirror_mode": {
    "name": "ipython",
    "version": 3
   },
   "file_extension": ".py",
   "mimetype": "text/x-python",
   "name": "python",
   "nbconvert_exporter": "python",
   "pygments_lexer": "ipython3",
   "version": "3.6.9"
  }
 },
 "nbformat": 4,
 "nbformat_minor": 2
}
