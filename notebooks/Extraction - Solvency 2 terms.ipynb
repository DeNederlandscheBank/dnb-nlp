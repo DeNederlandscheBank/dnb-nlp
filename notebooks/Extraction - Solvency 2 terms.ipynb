{
 "cells": [
  {
   "cell_type": "code",
   "execution_count": 1,
   "metadata": {},
   "outputs": [
    {
     "name": "stderr",
     "output_type": "stream",
     "text": [
      "/opt/anaconda3/envs/nlp/lib/python3.6/site-packages/sklearn/externals/joblib/__init__.py:15: DeprecationWarning: sklearn.externals.joblib is deprecated in 0.21 and will be removed in 0.23. Please import this functionality directly from joblib, which can be installed with: pip install joblib. If this warning is raised when loading pickled models, you may need to re-serialize those models with scikit-learn 0.21+.\n",
      "  warnings.warn(msg, category=DeprecationWarning)\n"
     ]
    }
   ],
   "source": [
    "from os import listdir\n",
    "from os.path import isfile, join\n",
    "import re\n",
    "import pandas as pd\n",
    "from lexnlp.nlp.en.segments import sentences\n",
    "from lexnlp.utils import parse_df\n",
    "import nltk"
   ]
  },
  {
   "cell_type": "code",
   "execution_count": 2,
   "metadata": {},
   "outputs": [
    {
     "name": "stderr",
     "output_type": "stream",
     "text": [
      "/opt/anaconda3/envs/nlp/lib/python3.6/site-packages/sklearn/base.py:306: UserWarning: Trying to unpickle estimator SelectKBest from version 0.19.0 when using version 0.21.3. This might lead to breaking code or invalid results. Use at your own risk.\n",
      "  UserWarning)\n",
      "/opt/anaconda3/envs/nlp/lib/python3.6/site-packages/sklearn/base.py:306: UserWarning: Trying to unpickle estimator LogisticRegressionCV from version 0.19.0 when using version 0.21.3. This might lead to breaking code or invalid results. Use at your own risk.\n",
      "  UserWarning)\n",
      "/opt/anaconda3/envs/nlp/lib/python3.6/site-packages/sklearn/base.py:306: UserWarning: Trying to unpickle estimator Pipeline from version 0.19.0 when using version 0.21.3. This might lead to breaking code or invalid results. Use at your own risk.\n",
      "  UserWarning)\n"
     ]
    }
   ],
   "source": [
    "import lexnlp\n",
    "import dnbnlp"
   ]
  },
  {
   "cell_type": "code",
   "execution_count": 3,
   "metadata": {},
   "outputs": [],
   "source": [
    "DATA_PATH = join('..','data','interim','sfcr')\n",
    "nltk.data.path.append(join('..','data','nltk_data'))"
   ]
  },
  {
   "cell_type": "code",
   "execution_count": 4,
   "metadata": {},
   "outputs": [],
   "source": [
    "txt_files = [f for f in listdir(DATA_PATH) if isfile(join(DATA_PATH, f)) and f[-3:]=='txt']\n",
    "documents = []\n",
    "for file_name in txt_files:\n",
    "    file = open(join(DATA_PATH, file_name), \"rb\")\n",
    "    text = file.read().decode('utf-8')\n",
    "    file.close()\n",
    "    #text = text.replace(\"\\n\", \" \")\n",
    "    documents.append(text)\n",
    "    \n",
    "pickle_files = [f for f in listdir(DATA_PATH) if isfile(join(DATA_PATH, f)) and f[-6:]=='pickle']\n",
    "df = pd.DataFrame()\n",
    "for file_name in pickle_files:\n",
    "    df = df.append(pd.read_pickle(join(DATA_PATH, file_name)), ignore_index = True)"
   ]
  },
  {
   "cell_type": "code",
   "execution_count": 5,
   "metadata": {},
   "outputs": [
    {
     "name": "stdout",
     "output_type": "stream",
     "text": [
      "Number of documents: 16\n",
      "Number of sentences: 54227\n"
     ]
    }
   ],
   "source": [
    "print(\"Number of documents: \" + str(len(documents)))\n",
    "print(\"Number of sentences: \" + str(len(df.index)))"
   ]
  },
  {
   "cell_type": "code",
   "execution_count": 6,
   "metadata": {},
   "outputs": [
    {
     "data": {
      "text/plain": [
       "dict_values([('1', 'risk margin', 'technical provisions', 900, [('risk margin', 'en', False, None, 'risk margin'), ('risicomarge', 'nl', False, None, 'risicomarg')]), ('2', 'technical provision', 'technical provisions', 900, [('technical provision', 'en', False, None, 'technic provis'), ('technische voorzieningen', 'nl', False, None, 'technisch voorzien')])])"
      ]
     },
     "execution_count": 6,
     "metadata": {},
     "output_type": "execute_result"
    }
   ],
   "source": [
    "config_list = dnbnlp.extract.common.terms.load_terms_dict_by_path(join('..','dictionary','common','terms.csv'), use_stemmer=True)\n",
    "config_list"
   ]
  },
  {
   "cell_type": "code",
   "execution_count": 7,
   "metadata": {},
   "outputs": [
    {
     "data": {
      "text/plain": [
       "[risk margin [solvency 2 term] at (15..24), loc: en,\n",
       " technical provision [solvency 2 term] at (66..83), loc: en]"
      ]
     },
     "execution_count": 7,
     "metadata": {},
     "output_type": "execute_result"
    }
   ],
   "source": [
    "sentence = \"Wat betreft de risicomarge hebben we geen enkele materiële afwijkingen in de technische voorzieningen.\"\n",
    "b = dnbnlp.extract.common.dict_terms.normalize_text(text = sentence,use_stemmer = True, language = \"nl\")\n",
    "a = list(dnbnlp.extract.common.terms.get_term_annotations(text = sentence, \n",
    "                                                                       term_config_list = config_list, \n",
    "                                                                       language = \"nl\"))\n",
    "a"
   ]
  },
  {
   "cell_type": "code",
   "execution_count": null,
   "metadata": {},
   "outputs": [],
   "source": []
  }
 ],
 "metadata": {
  "kernelspec": {
   "display_name": "Python 3",
   "language": "python",
   "name": "python3"
  },
  "language_info": {
   "codemirror_mode": {
    "name": "ipython",
    "version": 3
   },
   "file_extension": ".py",
   "mimetype": "text/x-python",
   "name": "python",
   "nbconvert_exporter": "python",
   "pygments_lexer": "ipython3",
   "version": "3.6.9"
  }
 },
 "nbformat": 4,
 "nbformat_minor": 2
}
