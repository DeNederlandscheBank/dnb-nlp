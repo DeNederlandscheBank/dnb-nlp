{
 "cells": [
  {
   "cell_type": "code",
   "execution_count": 1,
   "metadata": {},
   "outputs": [],
   "source": [
    "import warnings\n",
    "warnings.filterwarnings('ignore')"
   ]
  },
  {
   "cell_type": "code",
   "execution_count": 2,
   "metadata": {},
   "outputs": [],
   "source": [
    "from lexnlp.extract.en.geoentities import get_geoentity_annotations\n",
    "from lexnlp.extract.en.dates import get_date_annotations\n",
    "from lexnlp.extract.en.money import get_money_annotations\n",
    "from lexnlp.extract.en.durations import get_duration_annotations\n",
    "from lexnlp.extract.en.definitions import get_definition_annotations\n",
    "from lexnlp.extract.en.percents import get_percent_annotations\n",
    "from dictionary import dispatcher"
   ]
  },
  {
   "cell_type": "code",
   "execution_count": 3,
   "metadata": {},
   "outputs": [],
   "source": [
    "from src.extract.en import solvency2_terms\n",
    "from src.extract.en import eu_regulations\n",
    "from src.utils import legislation"
   ]
  },
  {
   "cell_type": "code",
   "execution_count": 4,
   "metadata": {},
   "outputs": [],
   "source": [
    "text = legislation.load(\"Delegated Acts\", \"EN\")"
   ]
  },
  {
   "cell_type": "code",
   "execution_count": 5,
   "metadata": {},
   "outputs": [],
   "source": [
    "collection = dispatcher.collection.dictionary.en"
   ]
  },
  {
   "cell_type": "code",
   "execution_count": 6,
   "metadata": {},
   "outputs": [
    {
     "data": {
      "text/html": [
       "<div>\n",
       "<style scoped>\n",
       "    .dataframe tbody tr th:only-of-type {\n",
       "        vertical-align: middle;\n",
       "    }\n",
       "\n",
       "    .dataframe tbody tr th {\n",
       "        vertical-align: top;\n",
       "    }\n",
       "\n",
       "    .dataframe thead th {\n",
       "        text-align: right;\n",
       "    }\n",
       "</style>\n",
       "<table border=\"1\" class=\"dataframe\">\n",
       "  <thead>\n",
       "    <tr style=\"text-align: right;\">\n",
       "      <th></th>\n",
       "      <th>term locale</th>\n",
       "      <th>term category</th>\n",
       "      <th>term</th>\n",
       "      <th>alias</th>\n",
       "      <th>priority</th>\n",
       "      <th>case sensitive</th>\n",
       "    </tr>\n",
       "  </thead>\n",
       "  <tbody>\n",
       "    <tr>\n",
       "      <th>0</th>\n",
       "      <td>EN</td>\n",
       "      <td>Solvency 2</td>\n",
       "      <td>alternative valuation methods</td>\n",
       "      <td>NaN</td>\n",
       "      <td>900</td>\n",
       "      <td>False</td>\n",
       "    </tr>\n",
       "    <tr>\n",
       "      <th>1</th>\n",
       "      <td>EN</td>\n",
       "      <td>Solvency 2</td>\n",
       "      <td>scenario analysis</td>\n",
       "      <td>NaN</td>\n",
       "      <td>900</td>\n",
       "      <td>False</td>\n",
       "    </tr>\n",
       "    <tr>\n",
       "      <th>2</th>\n",
       "      <td>EN</td>\n",
       "      <td>Solvency 2</td>\n",
       "      <td>health insurance obligation</td>\n",
       "      <td>NaN</td>\n",
       "      <td>900</td>\n",
       "      <td>False</td>\n",
       "    </tr>\n",
       "    <tr>\n",
       "      <th>3</th>\n",
       "      <td>EN</td>\n",
       "      <td>Solvency 2</td>\n",
       "      <td>medical expense insurance obligation</td>\n",
       "      <td>NaN</td>\n",
       "      <td>900</td>\n",
       "      <td>False</td>\n",
       "    </tr>\n",
       "    <tr>\n",
       "      <th>4</th>\n",
       "      <td>EN</td>\n",
       "      <td>Solvency 2</td>\n",
       "      <td>income protection insurance obligation</td>\n",
       "      <td>NaN</td>\n",
       "      <td>900</td>\n",
       "      <td>False</td>\n",
       "    </tr>\n",
       "  </tbody>\n",
       "</table>\n",
       "</div>"
      ],
      "text/plain": [
       "  term locale term category                                    term alias  \\\n",
       "0          EN    Solvency 2           alternative valuation methods   NaN   \n",
       "1          EN    Solvency 2                       scenario analysis   NaN   \n",
       "2          EN    Solvency 2             health insurance obligation   NaN   \n",
       "3          EN    Solvency 2    medical expense insurance obligation   NaN   \n",
       "4          EN    Solvency 2  income protection insurance obligation   NaN   \n",
       "\n",
       "   priority  case sensitive  \n",
       "0       900           False  \n",
       "1       900           False  \n",
       "2       900           False  \n",
       "3       900           False  \n",
       "4       900           False  "
      ]
     },
     "execution_count": 6,
     "metadata": {},
     "output_type": "execute_result"
    }
   ],
   "source": [
    "collection.terminology_csv.as_df.head(5)"
   ]
  },
  {
   "cell_type": "code",
   "execution_count": 7,
   "metadata": {},
   "outputs": [],
   "source": [
    "f = \"..//dictionary//en//terminology.csv\"\n",
    "config_list = list(solvency2_terms.load_entities_dict_by_path(f))"
   ]
  },
  {
   "cell_type": "code",
   "execution_count": 8,
   "metadata": {},
   "outputs": [
    {
     "name": "stdout",
     "output_type": "stream",
     "text": [
      "text : Insurance  or  reinsurance  undertakings  may  use  an  external  credit  assessment  for  the  calculation  of  the  Solvency Capital  Requirement  in  accordance  with  the  standard  formula  only  where  it  has  been  issued  by  an  External  Credit Assessment  Institution  (ECAI)  or  endorsed  by  an  ECAI  in  accordance  with  Regulation  (EC)  No  1060/2009  of  the European Parliament and of  the Council  (1). Insurance  or  reinsurance  undertakings  shall  nominate  one  or  more  ECAI  to  be  used  for  the  calculation  of  the \n",
      "\n",
      "results:\n",
      "[(((48, 'Solvency Capital Requirement', 900, [('Solvency Capital Requirement', None, False, None, ' solvency capital requirement '), ('SCR', None, None, None, ' scr ')]), ('Solvency Capital Requirement', None, False, None, ' solvency capital requirement ')), (103, 132))]\n",
      "\n",
      "results:\n",
      "[Regulation  (EC)  No  1060/2009 [regulation] at (339..370), loc: en]\n",
      "\n"
     ]
    }
   ],
   "source": [
    "item = legislation.article(text, \"EN\", 4)[2][0][1]\n",
    "\n",
    "t = item.replace(\"\\n\", \"\")\n",
    "\n",
    "r = list(solvency2_terms.get_solvency2terms(text = t, config_list = config_list))\n",
    "\n",
    "l = list(eu_regulations.get_regulation_annotations(text = t))\n",
    "\n",
    "print(\"text : \" + t + \"\\n\")\n",
    "if r != []:\n",
    "    print(\"results:\\n\" + str(r)+ \"\\n\")\n",
    "\n",
    "if l != []:\n",
    "    print(\"results:\\n\" + str(l) + \"\\n\")"
   ]
  },
  {
   "cell_type": "code",
   "execution_count": null,
   "metadata": {},
   "outputs": [],
   "source": []
  },
  {
   "cell_type": "code",
   "execution_count": null,
   "metadata": {},
   "outputs": [],
   "source": []
  }
 ],
 "metadata": {
  "kernelspec": {
   "display_name": "Python 3",
   "language": "python",
   "name": "python3"
  },
  "language_info": {
   "codemirror_mode": {
    "name": "ipython",
    "version": 3
   },
   "file_extension": ".py",
   "mimetype": "text/x-python",
   "name": "python",
   "nbconvert_exporter": "python",
   "pygments_lexer": "ipython3",
   "version": "3.6.9"
  }
 },
 "nbformat": 4,
 "nbformat_minor": 2
}
