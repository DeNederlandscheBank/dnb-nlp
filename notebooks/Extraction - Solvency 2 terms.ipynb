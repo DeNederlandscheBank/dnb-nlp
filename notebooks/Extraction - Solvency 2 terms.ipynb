{
 "cells": [
  {
   "cell_type": "code",
   "execution_count": null,
   "metadata": {},
   "outputs": [],
   "source": [
    "import warnings\n",
    "warnings.filterwarnings('ignore')"
   ]
  },
  {
   "cell_type": "code",
   "execution_count": null,
   "metadata": {},
   "outputs": [],
   "source": [
    "from dictionary import dispatcher"
   ]
  },
  {
   "cell_type": "code",
   "execution_count": null,
   "metadata": {},
   "outputs": [],
   "source": [
    "import lexnlp\n",
    "import src"
   ]
  },
  {
   "cell_type": "code",
   "execution_count": null,
   "metadata": {},
   "outputs": [],
   "source": [
    "text = src.utils.legislation.load(\"Delegated Acts\", \"EN\")"
   ]
  },
  {
   "cell_type": "code",
   "execution_count": null,
   "metadata": {},
   "outputs": [],
   "source": [
    "collection = dispatcher.collection.dictionary.en"
   ]
  },
  {
   "cell_type": "code",
   "execution_count": null,
   "metadata": {},
   "outputs": [],
   "source": [
    "collection.terminology_csv.as_df.head(5)"
   ]
  },
  {
   "cell_type": "code",
   "execution_count": null,
   "metadata": {},
   "outputs": [],
   "source": [
    "f = \"..//dictionary//en//terminology.csv\"\n",
    "config_list = list(src.extract.en.solvency2_terms.load_entities_dict_by_path(f))"
   ]
  },
  {
   "cell_type": "code",
   "execution_count": null,
   "metadata": {},
   "outputs": [],
   "source": [
    "item = src.utils.legislation.article(text, \"EN\", 4)[2][0][1]\n",
    "\n",
    "t = item.replace(\"\\n\", \"\")\n",
    "\n",
    "r = list(src.extract.en.solvency2_terms.get_solvency2terms(text = t, config_list = config_list))\n",
    "l = list(src.extract.en.eu_regulations.get_regulation_annotations(text = t))\n",
    "\n",
    "print(\"text : \" + t + \"\\n\")\n",
    "if r != []:\n",
    "    print(\"results:\\n\" + str(r)+ \"\\n\")\n",
    "\n",
    "if l != []:\n",
    "    print(\"results:\\n\" + str(l) + \"\\n\")"
   ]
  },
  {
   "cell_type": "code",
   "execution_count": null,
   "metadata": {},
   "outputs": [],
   "source": []
  },
  {
   "cell_type": "code",
   "execution_count": null,
   "metadata": {},
   "outputs": [],
   "source": []
  },
  {
   "cell_type": "code",
   "execution_count": null,
   "metadata": {},
   "outputs": [],
   "source": []
  }
 ],
 "metadata": {
  "kernelspec": {
   "display_name": "Python 3",
   "language": "python",
   "name": "python3"
  },
  "language_info": {
   "codemirror_mode": {
    "name": "ipython",
    "version": 3
   },
   "file_extension": ".py",
   "mimetype": "text/x-python",
   "name": "python",
   "nbconvert_exporter": "python",
   "pygments_lexer": "ipython3",
   "version": "3.6.9"
  }
 },
 "nbformat": 4,
 "nbformat_minor": 2
}
