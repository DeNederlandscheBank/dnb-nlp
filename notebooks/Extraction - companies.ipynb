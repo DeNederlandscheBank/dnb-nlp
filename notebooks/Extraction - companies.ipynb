{
 "cells": [
  {
   "cell_type": "code",
   "execution_count": 1,
   "metadata": {},
   "outputs": [
    {
     "name": "stderr",
     "output_type": "stream",
     "text": [
      "c:\\users\\willem jan willemse\\anaconda3\\envs\\solvency2-nlp\\lib\\site-packages\\sklearn\\externals\\joblib\\__init__.py:15: DeprecationWarning: sklearn.externals.joblib is deprecated in 0.21 and will be removed in 0.23. Please import this functionality directly from joblib, which can be installed with: pip install joblib. If this warning is raised when loading pickled models, you may need to re-serialize those models with scikit-learn 0.21+.\n",
      "  warnings.warn(msg, category=DeprecationWarning)\n"
     ]
    }
   ],
   "source": [
    "from os import listdir\n",
    "from os.path import isfile, join\n",
    "import re\n",
    "import pandas as pd\n",
    "from lexnlp.extract.en.entities import nltk_re\n",
    "from lexnlp.nlp.en.segments import sentences\n",
    "from lexnlp.utils import parse_df"
   ]
  },
  {
   "cell_type": "code",
   "execution_count": 2,
   "metadata": {},
   "outputs": [],
   "source": [
    "DATA_PATH = \"..\\data\\interim\\sfcr\""
   ]
  },
  {
   "cell_type": "code",
   "execution_count": 3,
   "metadata": {},
   "outputs": [],
   "source": [
    "txt_files = [f for f in listdir(DATA_PATH) if isfile(join(DATA_PATH, f)) and f[-3:]=='txt']\n",
    "documents = []\n",
    "for file_name in txt_files:\n",
    "    file = open(join(DATA_PATH, file_name), \"rb\")\n",
    "    text = file.read().decode('utf-8')\n",
    "    file.close()\n",
    "    #text = text.replace(\"\\n\", \" \")\n",
    "    documents.append(text)\n",
    "    \n",
    "pickle_files = [f for f in listdir(DATA_PATH) if isfile(join(DATA_PATH, f)) and f[-6:]=='pickle']\n",
    "df = pd.DataFrame()\n",
    "for file_name in pickle_files:\n",
    "    df = df.append(pd.read_pickle(join(DATA_PATH, file_name)), ignore_index = True)"
   ]
  },
  {
   "cell_type": "code",
   "execution_count": 6,
   "metadata": {},
   "outputs": [
    {
     "name": "stdout",
     "output_type": "stream",
     "text": [
      "Number of documents: 16\n",
      "Number of sentences: 46104\n"
     ]
    }
   ],
   "source": [
    "print(\"Number of documents: \" + str(len(documents)))\n",
    "print(\"Number of sentences: \" + str(len(df.index)))"
   ]
  },
  {
   "cell_type": "markdown",
   "metadata": {},
   "source": [
    "# Get companies (nltk approach)"
   ]
  },
  {
   "cell_type": "code",
   "execution_count": 8,
   "metadata": {},
   "outputs": [],
   "source": [
    "# nltk_re performs a complex regular expression for finding company entities\n",
    "\n",
    "l = list(nltk_re.get_companies(documents[0]))"
   ]
  },
  {
   "cell_type": "code",
   "execution_count": 9,
   "metadata": {},
   "outputs": [
    {
     "data": {
      "text/plain": [
       "[Her N.V., (6359, 6369),\n",
       " Her N.V., (10481, 10491),\n",
       " Her N.V., (14294, 14304),\n",
       " Voor N.V., (14890, 14900),\n",
       " Services B.V., (23294, 23308)]"
      ]
     },
     "execution_count": 9,
     "metadata": {},
     "output_type": "execute_result"
    }
   ],
   "source": [
    "l[0:5]"
   ]
  },
  {
   "cell_type": "markdown",
   "metadata": {},
   "source": [
    "# Accounting firms"
   ]
  },
  {
   "cell_type": "markdown",
   "metadata": {},
   "source": [
    "Dutch accounting firms are supervised by the AFM. It publishes a register with accounting firms: https://www.afm.nl/en/professionals/registers/vergunningenregisters/accountantsorganisaties"
   ]
  },
  {
   "cell_type": "code",
   "execution_count": 10,
   "metadata": {},
   "outputs": [],
   "source": [
    "# file directly downloaded from AFM website\n",
    "f = \"..//dictionary//nl//AFM//accountantsorganisaties.csv\"\n",
    "df_accounting = pd.read_csv(f, encoding = 'latin-1', sep= ';').set_index('Naam organisatie')\n",
    "# additional file for aliases of firm names (for example EY instead of Ernst & Young Accountants)\n",
    "f = \"..//dictionary//nl//AFM//accountantsorganisaties-alias.csv\"\n",
    "alias = pd.read_csv(f, sep = ',', encoding = 'latin-1').set_index('Naam organisatie')\n",
    "df_accounting = df_accounting.join(alias).reset_index()\n",
    "\n",
    "parse_columns = ('Naam organisatie', 'Korte naam', 'Afkorting')\n",
    "result_columns = {'Naam organisatie': 'name'}\n",
    "preformed_entity = {'entity_type': 'accounting firm', \n",
    "                    'source'     : 'AFM', \n",
    "                    'country'    : 'NL'}"
   ]
  },
  {
   "cell_type": "code",
   "execution_count": 11,
   "metadata": {},
   "outputs": [],
   "source": [
    "df_results1 = pd.DataFrame()\n",
    "for idx, document in enumerate(documents):\n",
    "    for sentence in sentences.get_sentence_list(document):\n",
    "        items = list(parse_df.DataframeEntityParser(df_accounting, parse_columns, result_columns, preformed_entity).get_entities_from_text(sentence))\n",
    "        for i in items:\n",
    "            df_results1 = df_results1.append(pd.DataFrame(columns = ['file name']+list(i.keys())+['text'], \n",
    "                                                          data = [[txt_files[idx]]+list(i.values())+[sentence]]), ignore_index = True)"
   ]
  },
  {
   "cell_type": "code",
   "execution_count": 12,
   "metadata": {},
   "outputs": [
    {
     "data": {
      "text/plain": [
       "40"
      ]
     },
     "execution_count": 12,
     "metadata": {},
     "output_type": "execute_result"
    }
   ],
   "source": [
    "len(df_results1.index)"
   ]
  },
  {
   "cell_type": "code",
   "execution_count": 13,
   "metadata": {},
   "outputs": [],
   "source": [
    "df_results2 = pd.DataFrame()\n",
    "for sent_id in df.index:\n",
    "    sentence = df.loc[sent_id,'text']\n",
    "    items = list(parse_df.DataframeEntityParser(df_accounting, parse_columns, result_columns, preformed_entity).get_entities_from_text(sentence))\n",
    "    for i in items:\n",
    "        df_results2 = df_results2.append(pd.DataFrame(columns = list(df.loc[sent_id].index) + list(i.keys()), \n",
    "                                                      data = [list(df.loc[sent_id].values) + list(i.values())]), ignore_index = True)"
   ]
  },
  {
   "cell_type": "code",
   "execution_count": 14,
   "metadata": {},
   "outputs": [
    {
     "data": {
      "text/plain": [
       "40"
      ]
     },
     "execution_count": 14,
     "metadata": {},
     "output_type": "execute_result"
    }
   ],
   "source": [
    "len(df_results2.index)"
   ]
  },
  {
   "cell_type": "markdown",
   "metadata": {},
   "source": [
    "# Insurance undertakings"
   ]
  },
  {
   "cell_type": "markdown",
   "metadata": {},
   "source": [
    "EIOPA's register includes all European insurance undertakings."
   ]
  },
  {
   "cell_type": "code",
   "execution_count": 15,
   "metadata": {},
   "outputs": [],
   "source": [
    "f = \"..//dictionary//common//EIOPA//DATINS_Export_637110803393817886.csv\"\n",
    "df_insurers = pd.read_csv(f, encoding = 'latin-1', sep = ';')\n",
    "df_insurers = df_insurers[df_insurers['Name of NCA']=='De Nederlandsche Bank']"
   ]
  },
  {
   "cell_type": "code",
   "execution_count": 16,
   "metadata": {},
   "outputs": [],
   "source": [
    "parse_columns = ('International Name', 'Official name of the entity')\n",
    "result_columns = {'International Name': 'name', 'Home Country': 'country'}\n",
    "preformed_entity = {'entity_type': 'insurance undertaking', \n",
    "                    'source'     : 'EIOPA'}"
   ]
  },
  {
   "cell_type": "code",
   "execution_count": 17,
   "metadata": {},
   "outputs": [
    {
     "ename": "NameError",
     "evalue": "name 'files' is not defined",
     "output_type": "error",
     "traceback": [
      "\u001b[1;31m---------------------------------------------------------------------------\u001b[0m",
      "\u001b[1;31mNameError\u001b[0m                                 Traceback (most recent call last)",
      "\u001b[1;32m<ipython-input-17-bcffe34b01e0>\u001b[0m in \u001b[0;36m<module>\u001b[1;34m\u001b[0m\n\u001b[0;32m      5\u001b[0m         \u001b[1;32mfor\u001b[0m \u001b[0mi\u001b[0m \u001b[1;32min\u001b[0m \u001b[0mitems\u001b[0m\u001b[1;33m:\u001b[0m\u001b[1;33m\u001b[0m\u001b[1;33m\u001b[0m\u001b[0m\n\u001b[0;32m      6\u001b[0m             df_results = df_results.append(pd.DataFrame(columns = ['file name']+list(i.keys())+['sentence'], \n\u001b[1;32m----> 7\u001b[1;33m                                                         data = [[files[idx]]+list(i.values())+[str(sentence)]]))\n\u001b[0m\u001b[0;32m      8\u001b[0m \u001b[0mdf_results\u001b[0m\u001b[1;33m\u001b[0m\u001b[1;33m\u001b[0m\u001b[0m\n",
      "\u001b[1;31mNameError\u001b[0m: name 'files' is not defined"
     ]
    }
   ],
   "source": [
    "df_results = pd.DataFrame()\n",
    "for idx, document in enumerate(documents[0:4]):\n",
    "    for sentence in sentences.get_sentence_list(document):\n",
    "        items = list(parse_df.DataframeEntityParser(df_insurers, parse_columns, result_columns, preformed_entity).get_entities_from_text(sentence))\n",
    "        for i in items:\n",
    "            df_results = df_results.append(pd.DataFrame(columns = ['file name']+list(i.keys())+['sentence'], \n",
    "                                                        data = [[files[idx]]+list(i.values())+[str(sentence)]]))\n",
    "df_results"
   ]
  },
  {
   "cell_type": "code",
   "execution_count": null,
   "metadata": {},
   "outputs": [],
   "source": [
    "# text to html file\n",
    "#with open(\"text.html\", \"w\", encoding='utf-8') as e:\n",
    "#    e.write(str(documents[0]))"
   ]
  },
  {
   "cell_type": "code",
   "execution_count": null,
   "metadata": {},
   "outputs": [],
   "source": []
  },
  {
   "cell_type": "code",
   "execution_count": null,
   "metadata": {},
   "outputs": [],
   "source": []
  }
 ],
 "metadata": {
  "kernelspec": {
   "display_name": "Python 3",
   "language": "python",
   "name": "python3"
  },
  "language_info": {
   "codemirror_mode": {
    "name": "ipython",
    "version": 3
   },
   "file_extension": ".py",
   "mimetype": "text/x-python",
   "name": "python",
   "nbconvert_exporter": "python",
   "pygments_lexer": "ipython3",
   "version": "3.6.9"
  }
 },
 "nbformat": 4,
 "nbformat_minor": 2
}
