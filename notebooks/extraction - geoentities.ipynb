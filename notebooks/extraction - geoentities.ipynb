{
 "cells": [
  {
   "cell_type": "code",
   "execution_count": null,
   "metadata": {},
   "outputs": [],
   "source": [
    "from os import listdir\n",
    "from os.path import isfile, join\n",
    "import re\n",
    "import pandas as pd\n",
    "\n",
    "from lexnlp.extract.en import urls\n",
    "from lexnlp.extract.en import percents\n",
    "from lexnlp.extract.en import geoentities\n",
    "from lexnlp.extract.en.geoentities import get_geoentities, load_entities_dict_by_path"
   ]
  },
  {
   "cell_type": "code",
   "execution_count": null,
   "metadata": {},
   "outputs": [],
   "source": [
    "DATA_PATH = join('..','data','interim','sfcr')\n"
   ]
  },
  {
   "cell_type": "code",
   "execution_count": null,
   "metadata": {},
   "outputs": [],
   "source": [
    "files = [f for f in listdir(DATA_PATH) if isfile(join(DATA_PATH, f)) and f[-3:]=='txt']\n",
    "documents = []\n",
    "for file_name in files:\n",
    "    file = open(join(DATA_PATH, file_name), \"rb\")\n",
    "    text = file.read().decode('utf-8')\n",
    "    file.close()\n",
    "    #text = text.replace(\"\\n\", \" \")\n",
    "    documents.append(text)"
   ]
  },
  {
   "cell_type": "code",
   "execution_count": null,
   "metadata": {},
   "outputs": [],
   "source": [
    "base_path = join('..','dictionary','en')\n",
    "entities_fn = join(base_path, 'geoentities.csv')\n",
    "aliases_fn = join(base_path, 'geoaliases.csv')\n",
    "\n",
    "config_list = list(geoentities.load_entities_dict_by_path(entities_fn, aliases_fn))"
   ]
  },
  {
   "cell_type": "code",
   "execution_count": null,
   "metadata": {
    "scrolled": false
   },
   "outputs": [],
   "source": [
    "l = list(geoentities.get_geoentity_annotations(documents[9], geo_config_list = config_list))"
   ]
  },
  {
   "cell_type": "code",
   "execution_count": null,
   "metadata": {},
   "outputs": [],
   "source": [
    "l"
   ]
  }
 ],
 "metadata": {
  "kernelspec": {
   "display_name": "Python 3",
   "language": "python",
   "name": "python3"
  },
  "language_info": {
   "codemirror_mode": {
    "name": "ipython",
    "version": 3
   },
   "file_extension": ".py",
   "mimetype": "text/x-python",
   "name": "python",
   "nbconvert_exporter": "python",
   "pygments_lexer": "ipython3",
   "version": "3.6.10"
  }
 },
 "nbformat": 4,
 "nbformat_minor": 2
}
