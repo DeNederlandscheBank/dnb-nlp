{
 "cells": [
  {
   "cell_type": "code",
   "execution_count": 1,
   "metadata": {},
   "outputs": [
    {
     "name": "stderr",
     "output_type": "stream",
     "text": [
      "c:\\users\\willem jan willemse\\anaconda3\\envs\\solvency2-nlp\\lib\\site-packages\\sklearn\\externals\\joblib\\__init__.py:15: DeprecationWarning: sklearn.externals.joblib is deprecated in 0.21 and will be removed in 0.23. Please import this functionality directly from joblib, which can be installed with: pip install joblib. If this warning is raised when loading pickled models, you may need to re-serialize those models with scikit-learn 0.21+.\n",
      "  warnings.warn(msg, category=DeprecationWarning)\n"
     ]
    }
   ],
   "source": [
    "from os import listdir\n",
    "from os.path import isfile, join\n",
    "import re\n",
    "import pandas as pd\n",
    "from lexnlp.extract.en.entities import nltk_re\n",
    "from lexnlp.nlp.en.segments import sentences\n",
    "from lexnlp.utils import parse_df"
   ]
  },
  {
   "cell_type": "code",
   "execution_count": 2,
   "metadata": {},
   "outputs": [],
   "source": [
    "DATA_PATH = \"..\\data\\interim\\sfcr\""
   ]
  },
  {
   "cell_type": "code",
   "execution_count": 3,
   "metadata": {},
   "outputs": [],
   "source": [
    "txt_files = [f for f in listdir(DATA_PATH) if isfile(join(DATA_PATH, f)) and f[-3:]=='txt']\n",
    "documents = []\n",
    "for file_name in txt_files:\n",
    "    file = open(join(DATA_PATH, file_name), \"rb\")\n",
    "    text = file.read().decode('utf-8')\n",
    "    file.close()\n",
    "    #text = text.replace(\"\\n\", \" \")\n",
    "    documents.append(text)\n",
    "    \n",
    "pickle_files = [f for f in listdir(DATA_PATH) if isfile(join(DATA_PATH, f)) and f[-6:]=='pickle']\n",
    "df = pd.DataFrame()\n",
    "for file_name in pickle_files:\n",
    "    df = df.append(pd.read_pickle(join(DATA_PATH, file_name)), ignore_index = True)"
   ]
  },
  {
   "cell_type": "code",
   "execution_count": 4,
   "metadata": {
    "scrolled": true
   },
   "outputs": [
    {
     "name": "stdout",
     "output_type": "stream",
     "text": [
      "Number of documents: 16\n",
      "Number of sentences: 46104\n"
     ]
    }
   ],
   "source": [
    "print(\"Number of documents: \" + str(len(documents)))\n",
    "print(\"Number of sentences: \" + str(len(df.index)))"
   ]
  },
  {
   "cell_type": "code",
   "execution_count": 5,
   "metadata": {},
   "outputs": [],
   "source": [
    "from sklearn.externals import joblib\n",
    "import os"
   ]
  },
  {
   "cell_type": "code",
   "execution_count": 6,
   "metadata": {},
   "outputs": [
    {
     "name": "stderr",
     "output_type": "stream",
     "text": [
      "c:\\users\\willem jan willemse\\anaconda3\\envs\\solvency2-nlp\\lib\\site-packages\\sklearn\\base.py:306: UserWarning: Trying to unpickle estimator ExtraTreeClassifier from version 0.19.0 when using version 0.21.3. This might lead to breaking code or invalid results. Use at your own risk.\n",
      "  UserWarning)\n",
      "c:\\users\\willem jan willemse\\anaconda3\\envs\\solvency2-nlp\\lib\\site-packages\\sklearn\\base.py:306: UserWarning: Trying to unpickle estimator ExtraTreesClassifier from version 0.19.0 when using version 0.21.3. This might lead to breaking code or invalid results. Use at your own risk.\n",
      "  UserWarning)\n",
      "c:\\users\\willem jan willemse\\anaconda3\\envs\\solvency2-nlp\\lib\\site-packages\\sklearn\\base.py:306: UserWarning: Trying to unpickle estimator DecisionTreeClassifier from version 0.19.0 when using version 0.21.3. This might lead to breaking code or invalid results. Use at your own risk.\n",
      "  UserWarning)\n"
     ]
    }
   ],
   "source": [
    "from lexnlp.nlp.en.segments import titles, sections, paragraphs, pages\n",
    "from src.nlp.en.segments import solvency2_titles\n",
    "from src.nlp.en.segments import solvency2_document_year"
   ]
  },
  {
   "cell_type": "code",
   "execution_count": 7,
   "metadata": {},
   "outputs": [],
   "source": [
    "for idx in range(len(documents)):\n",
    "    documents[idx] = documents[idx].replace('\\uf0b7', \"\")\n",
    "    documents[idx] = documents[idx].replace('\\uf0a7', \"\")\n",
    "    documents[idx] = documents[idx].replace('\\uf0fc', \"\")\n",
    "    documents[idx] = documents[idx].replace('\\uf00c', \"\")\n",
    "    documents[idx] = documents[idx].replace('\\uf00d', \"\")\n",
    "    documents[idx] = documents[idx].replace('\\uf020', \"\")"
   ]
  },
  {
   "cell_type": "code",
   "execution_count": 8,
   "metadata": {},
   "outputs": [],
   "source": [
    "# for item in range(len(documents[2:])):\n",
    "#     print(\"Document: \" + str(txt_files[item]) + \" (\" + str(item) + \")\")\n",
    "#     print(\"Sections: \" + str(list(sections.get_sections(documents[item], score_threshold=0.5))))"
   ]
  },
  {
   "cell_type": "code",
   "execution_count": 9,
   "metadata": {},
   "outputs": [],
   "source": [
    "from lexnlp.extract.common import fact_extracting"
   ]
  },
  {
   "cell_type": "code",
   "execution_count": 10,
   "metadata": {},
   "outputs": [],
   "source": [
    "#a = list(sections.get_sections(documents[14], score_threshold = 0.5))"
   ]
  },
  {
   "cell_type": "code",
   "execution_count": 11,
   "metadata": {
    "scrolled": true
   },
   "outputs": [],
   "source": [
    "#a[100]"
   ]
  },
  {
   "cell_type": "code",
   "execution_count": 12,
   "metadata": {
    "scrolled": true
   },
   "outputs": [],
   "source": [
    "import src\n",
    "f = \"..//dictionary//en//terminology.csv\"\n",
    "config_list = list(src.extract.en.solvency2_terms.load_entities_dict_by_path(f))\n",
    "\n",
    "b = fact_extracting.FactExtractor\n",
    "b.ensure_parser_arguments_en(config_list)"
   ]
  },
  {
   "cell_type": "code",
   "execution_count": 13,
   "metadata": {},
   "outputs": [
    {
     "name": "stdout",
     "output_type": "stream",
     "text": [
      "[('6,576,210.93', (6, 20), {'time': [], 'hours': [], 'minutes': [], 'seconds': [], 'microseconds': [], 'time_periods': [], 'timezones': [], 'digits_modifier': [], 'digits': ['6', '576', '210', '93'], 'days': [], 'months': [], 'delimiters': ['', ',', ',', '.'], 'extra_tokens': []}), ('12/11/2007 10,000,000.00', (24, 58), {'time': [], 'hours': [], 'minutes': [], 'seconds': [], 'microseconds': [], 'time_periods': [], 'timezones': [], 'digits_modifier': [], 'digits': ['12', '11', '2007', '10', '000', '000', '00'], 'days': [], 'months': [], 'delimiters': ['', '/', '/', '', ',', ',', '.'], 'extra_tokens': []})]\n"
     ]
    }
   ],
   "source": [
    "# sent = \"There was fifty one of them. On May 5 the Solvency Capital Requirement. is 5 million.\"\n",
    "# sent = sent.replace(\".\", \" .\")\n",
    "sent = \"Totals 6,576,210.93 Loan 12/11/2007          10,000,000.00\"\n",
    "c = b.parse_text(sent, 'en')"
   ]
  },
  {
   "cell_type": "code",
   "execution_count": 14,
   "metadata": {},
   "outputs": [
    {
     "data": {
      "text/plain": [
       "{<AnnotationType.ratio: 20>: [ [ratio] at (25..36), loc: en],\n",
       " <AnnotationType.amount: 2>: [ [amount] at (7..20), loc: en,\n",
       "   [amount] at (45..58), loc: en]}"
      ]
     },
     "execution_count": 14,
     "metadata": {},
     "output_type": "execute_result"
    }
   ],
   "source": [
    "c"
   ]
  },
  {
   "cell_type": "code",
   "execution_count": 15,
   "metadata": {},
   "outputs": [
    {
     "data": {
      "text/plain": [
       "',576,'"
      ]
     },
     "execution_count": 15,
     "metadata": {},
     "output_type": "execute_result"
    }
   ],
   "source": [
    "sent[8:13]"
   ]
  },
  {
   "cell_type": "code",
   "execution_count": 16,
   "metadata": {},
   "outputs": [],
   "source": [
    "import lexnlp"
   ]
  },
  {
   "cell_type": "code",
   "execution_count": 17,
   "metadata": {},
   "outputs": [],
   "source": [
    "sent = \"May 16, 2015   100.0\"\n",
    "#list(lexnlp.extract.common.date_parsing.datefinder.extract_date_strings(sent))"
   ]
  },
  {
   "cell_type": "code",
   "execution_count": 18,
   "metadata": {},
   "outputs": [
    {
     "name": "stdout",
     "output_type": "stream",
     "text": [
      "[('May 16, 2015 100.0', (0, 20), {'time': [], 'hours': [], 'minutes': [], 'seconds': [], 'microseconds': [], 'time_periods': [], 'timezones': [], 'digits_modifier': [], 'digits': ['16', '2015', '100', '0'], 'days': [], 'months': ['May'], 'delimiters': ['', ',', '', '.'], 'extra_tokens': []})]\n"
     ]
    },
    {
     "data": {
      "text/plain": [
       "[]"
      ]
     },
     "execution_count": 18,
     "metadata": {},
     "output_type": "execute_result"
    }
   ],
   "source": [
    "from datetime import datetime\n",
    "base_date = datetime.now().replace(\n",
    "        day=1, month=1, hour=0, minute=0, second=0, microsecond=0)\n",
    "\n",
    "    # Find potential dates\n",
    "date_finder = lexnlp.extract.en.dates.DateFinder(base_date=base_date)\n",
    "#list(date_finder.find_dates(sent))\n",
    "list(lexnlp.extract.en.dates.get_raw_dates(sent))"
   ]
  },
  {
   "cell_type": "code",
   "execution_count": 19,
   "metadata": {},
   "outputs": [
    {
     "data": {
      "text/plain": [
       "[('May 16, 2015 100.0',\n",
       "  (0, 20),\n",
       "  {'time': [],\n",
       "   'hours': [],\n",
       "   'minutes': [],\n",
       "   'seconds': [],\n",
       "   'microseconds': [],\n",
       "   'time_periods': [],\n",
       "   'timezones': [],\n",
       "   'digits_modifier': [],\n",
       "   'digits': ['16', '2015', '100', '0'],\n",
       "   'days': [],\n",
       "   'months': ['May'],\n",
       "   'delimiters': ['', ',', '', '.'],\n",
       "   'extra_tokens': []})]"
      ]
     },
     "execution_count": 19,
     "metadata": {},
     "output_type": "execute_result"
    }
   ],
   "source": [
    "possible_dates = [(date_string, index, date_props) for date_string, index, date_props in\n",
    "                      date_finder.extract_date_strings(sent, strict=False)]\n",
    "possible_dates"
   ]
  },
  {
   "cell_type": "code",
   "execution_count": 20,
   "metadata": {},
   "outputs": [
    {
     "ename": "ValueError",
     "evalue": "('Unknown string format:', 'May 16, 2016 100')",
     "output_type": "error",
     "traceback": [
      "\u001b[1;31m---------------------------------------------------------------------------\u001b[0m",
      "\u001b[1;31mValueError\u001b[0m                                Traceback (most recent call last)",
      "\u001b[1;32m<ipython-input-20-1d07b8af7705>\u001b[0m in \u001b[0;36m<module>\u001b[1;34m\u001b[0m\n\u001b[0;32m      1\u001b[0m \u001b[1;32mfrom\u001b[0m \u001b[0mdateutil\u001b[0m\u001b[1;33m.\u001b[0m\u001b[0mparser\u001b[0m \u001b[1;32mimport\u001b[0m \u001b[1;33m*\u001b[0m\u001b[1;33m\u001b[0m\u001b[1;33m\u001b[0m\u001b[0m\n\u001b[0;32m      2\u001b[0m \u001b[1;32mfrom\u001b[0m \u001b[0mdatetime\u001b[0m \u001b[1;32mimport\u001b[0m \u001b[1;33m*\u001b[0m\u001b[1;33m\u001b[0m\u001b[1;33m\u001b[0m\u001b[0m\n\u001b[1;32m----> 3\u001b[1;33m \u001b[0mnow\u001b[0m \u001b[1;33m=\u001b[0m \u001b[0mparse\u001b[0m\u001b[1;33m(\u001b[0m\u001b[1;34m\"May 16, 2016 100\"\u001b[0m\u001b[1;33m)\u001b[0m\u001b[1;33m\u001b[0m\u001b[1;33m\u001b[0m\u001b[0m\n\u001b[0m",
      "\u001b[1;32mc:\\users\\willem jan willemse\\anaconda3\\envs\\solvency2-nlp\\lib\\site-packages\\dateutil\\parser\\_parser.py\u001b[0m in \u001b[0;36mparse\u001b[1;34m(timestr, parserinfo, **kwargs)\u001b[0m\n\u001b[0;32m   1356\u001b[0m         \u001b[1;32mreturn\u001b[0m \u001b[0mparser\u001b[0m\u001b[1;33m(\u001b[0m\u001b[0mparserinfo\u001b[0m\u001b[1;33m)\u001b[0m\u001b[1;33m.\u001b[0m\u001b[0mparse\u001b[0m\u001b[1;33m(\u001b[0m\u001b[0mtimestr\u001b[0m\u001b[1;33m,\u001b[0m \u001b[1;33m**\u001b[0m\u001b[0mkwargs\u001b[0m\u001b[1;33m)\u001b[0m\u001b[1;33m\u001b[0m\u001b[1;33m\u001b[0m\u001b[0m\n\u001b[0;32m   1357\u001b[0m     \u001b[1;32melse\u001b[0m\u001b[1;33m:\u001b[0m\u001b[1;33m\u001b[0m\u001b[1;33m\u001b[0m\u001b[0m\n\u001b[1;32m-> 1358\u001b[1;33m         \u001b[1;32mreturn\u001b[0m \u001b[0mDEFAULTPARSER\u001b[0m\u001b[1;33m.\u001b[0m\u001b[0mparse\u001b[0m\u001b[1;33m(\u001b[0m\u001b[0mtimestr\u001b[0m\u001b[1;33m,\u001b[0m \u001b[1;33m**\u001b[0m\u001b[0mkwargs\u001b[0m\u001b[1;33m)\u001b[0m\u001b[1;33m\u001b[0m\u001b[1;33m\u001b[0m\u001b[0m\n\u001b[0m\u001b[0;32m   1359\u001b[0m \u001b[1;33m\u001b[0m\u001b[0m\n\u001b[0;32m   1360\u001b[0m \u001b[1;33m\u001b[0m\u001b[0m\n",
      "\u001b[1;32mc:\\users\\willem jan willemse\\anaconda3\\envs\\solvency2-nlp\\lib\\site-packages\\dateutil\\parser\\_parser.py\u001b[0m in \u001b[0;36mparse\u001b[1;34m(self, timestr, default, ignoretz, tzinfos, **kwargs)\u001b[0m\n\u001b[0;32m    647\u001b[0m \u001b[1;33m\u001b[0m\u001b[0m\n\u001b[0;32m    648\u001b[0m         \u001b[1;32mif\u001b[0m \u001b[0mres\u001b[0m \u001b[1;32mis\u001b[0m \u001b[1;32mNone\u001b[0m\u001b[1;33m:\u001b[0m\u001b[1;33m\u001b[0m\u001b[1;33m\u001b[0m\u001b[0m\n\u001b[1;32m--> 649\u001b[1;33m             \u001b[1;32mraise\u001b[0m \u001b[0mValueError\u001b[0m\u001b[1;33m(\u001b[0m\u001b[1;34m\"Unknown string format:\"\u001b[0m\u001b[1;33m,\u001b[0m \u001b[0mtimestr\u001b[0m\u001b[1;33m)\u001b[0m\u001b[1;33m\u001b[0m\u001b[1;33m\u001b[0m\u001b[0m\n\u001b[0m\u001b[0;32m    650\u001b[0m \u001b[1;33m\u001b[0m\u001b[0m\n\u001b[0;32m    651\u001b[0m         \u001b[1;32mif\u001b[0m \u001b[0mlen\u001b[0m\u001b[1;33m(\u001b[0m\u001b[0mres\u001b[0m\u001b[1;33m)\u001b[0m \u001b[1;33m==\u001b[0m \u001b[1;36m0\u001b[0m\u001b[1;33m:\u001b[0m\u001b[1;33m\u001b[0m\u001b[1;33m\u001b[0m\u001b[0m\n",
      "\u001b[1;31mValueError\u001b[0m: ('Unknown string format:', 'May 16, 2016 100')"
     ]
    }
   ],
   "source": [
    "from dateutil.parser import *\n",
    "from datetime import *\n",
    "now = parse(\"May 16, 2016 100\")"
   ]
  },
  {
   "cell_type": "code",
   "execution_count": null,
   "metadata": {},
   "outputs": [],
   "source": [
    "now"
   ]
  },
  {
   "cell_type": "code",
   "execution_count": null,
   "metadata": {},
   "outputs": [],
   "source": []
  }
 ],
 "metadata": {
  "kernelspec": {
   "display_name": "Python 3",
   "language": "python",
   "name": "python3"
  },
  "language_info": {
   "codemirror_mode": {
    "name": "ipython",
    "version": 3
   },
   "file_extension": ".py",
   "mimetype": "text/x-python",
   "name": "python",
   "nbconvert_exporter": "python",
   "pygments_lexer": "ipython3",
   "version": "3.6.10"
  }
 },
 "nbformat": 4,
 "nbformat_minor": 2
}
